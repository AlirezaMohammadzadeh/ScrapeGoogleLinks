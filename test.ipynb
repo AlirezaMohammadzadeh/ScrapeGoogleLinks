{
 "cells": [
  {
   "cell_type": "code",
   "execution_count": 9,
   "metadata": {},
   "outputs": [],
   "source": [
    "import requests\n",
    "from GoogleSearch import *\n",
    "import numpy as np\n",
    "import pandas as pd\n",
    "import random"
   ]
  },
  {
   "cell_type": "code",
   "execution_count": 10,
   "metadata": {},
   "outputs": [],
   "source": [
    "driver_path = r\"D:\\chrome_driver\\chromedriver.exe\" \n",
    "def scrape_google(ProductName,SiteName):\n",
    "    try:\n",
    "        google_scrapper = ScrapeGoogle(driver_path)\n",
    "        google_scrapper.start_driver()\n",
    "        time.sleep(random.randint(2,5))\n",
    "        Url = google_scrapper.find_proper_link(ProductName,SiteName)\n",
    "        google_scrapper.stop_driver()\n",
    "        response = {\"Url\":Url}\n",
    "        return response,200\n",
    "    except Exception as e:\n",
    "        google_scrapper.stop_driver()\n",
    "        return {\"error\":str(e)}, 500"
   ]
  },
  {
   "cell_type": "code",
   "execution_count": 11,
   "metadata": {},
   "outputs": [
    {
     "name": "stdout",
     "output_type": "stream",
     "text": [
      "None\n",
      "({'Url': 'https://www.digikala.com/product/dkp-6459793/%DA%AF%D9%88%D8%B4%DB%8C-%D9%85%D9%88%D8%A8%D8%A7%DB%8C%D9%84-%D8%A7%D9%BE%D9%84-%D9%85%D8%AF%D9%84-iphone-13-a2634-%D8%AF%D9%88-%D8%B3%DB%8C%D9%85-%DA%A9%D8%A7%D8%B1%D8%AA-%D8%B8%D8%B1%D9%81%DB%8C%D8%AA-128-%DA%AF%DB%8C%DA%AF%D8%A7%D8%A8%D8%A7%DB%8C%D8%AA-%D9%88-%D8%B1%D9%85-4-%DA%AF%DB%8C%DA%AF%D8%A7%D8%A8%D8%A7%DB%8C%D8%AA-%D9%86%D8%A7%D8%AA-%D8%A7%DA%A9%D8%AA%DB%8C%D9%88'}, 200)\n"
     ]
    }
   ],
   "source": [
    "ls = scrape_google('iphone 13','digikala')\n",
    "print(ls)"
   ]
  },
  {
   "cell_type": "code",
   "execution_count": 12,
   "metadata": {},
   "outputs": [
    {
     "name": "stdout",
     "output_type": "stream",
     "text": [
      "{'Url': 'https://www.digikala.com/search/category-mobile-phone/apple/'}\n"
     ]
    }
   ],
   "source": [
    "try:\n",
    "    BASE = 'http://127.0.0.1:5000/'\n",
    "    response = requests.get(BASE + \"ScrapeUrl/iphone/digikala\")\n",
    "    print(response.json())\n",
    "except Exception as e:\n",
    "    print(str(e))"
   ]
  },
  {
   "cell_type": "code",
   "execution_count": 16,
   "metadata": {},
   "outputs": [
    {
     "name": "stdout",
     "output_type": "stream",
     "text": [
      "{'Url': 'https://www.digikala.com/search/category-mobile-phone/apple/'}\n"
     ]
    }
   ],
   "source": [
    "try:\n",
    "    BASE = 'http://web-scrape.eways.co/'\n",
    "    response = requests.get(BASE + \"ScrapeUrl/iphone/digikala\")\n",
    "    print(response.json())\n",
    "except Exception as e:\n",
    "    print(str(e))"
   ]
  }
 ],
 "metadata": {
  "kernelspec": {
   "display_name": "ShoppingSitesScrapping",
   "language": "python",
   "name": "python3"
  },
  "language_info": {
   "codemirror_mode": {
    "name": "ipython",
    "version": 3
   },
   "file_extension": ".py",
   "mimetype": "text/x-python",
   "name": "python",
   "nbconvert_exporter": "python",
   "pygments_lexer": "ipython3",
   "version": "3.10.12"
  }
 },
 "nbformat": 4,
 "nbformat_minor": 2
}
